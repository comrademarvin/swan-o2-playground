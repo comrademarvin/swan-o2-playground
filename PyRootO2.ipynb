{
 "cells": [
  {
   "cell_type": "markdown",
   "id": "186eb960",
   "metadata": {
    "slideshow": {
     "slide_type": "slide"
    }
   },
   "source": [
    "Native Python client for AliEn: alien.py\n",
    "==============================\n",
    "\n",
    "The standard command line utilities for AliEn are implemented in python anyways, so for interacting with the grid (e.g. file catalog, job submission), this is probably the easier solution.\n",
    "\n",
    "Here we do a basic check."
   ]
  },
  {
   "cell_type": "code",
   "execution_count": 2,
   "id": "ca21180a",
   "metadata": {
    "scrolled": true,
    "slideshow": {
     "slide_type": "-"
    }
   },
   "outputs": [
    {
     "name": "stdout",
     "output_type": "stream",
     "text": [
      "Username: tdietel\n",
      "Role: tdietel (other roles: trddrop)\n",
      "Full name: Thomas Dietel\n",
      "Email: Tom.Dietel@cern.ch\n",
      "Certificate DN: OU=tdietel, CN=tdietel, CN=Users, O=AliEn2, C=ch (expiring on 2022-05-21T16:50:56+02:00[Europe/Paris], which is in 30d 23:59)\n",
      "Connected from: 188.184.38.69\n",
      "Home directory: /alice/cern.ch/user/t/tdietel/\n"
     ]
    }
   ],
   "source": [
    "import alienpy.alien as alien\n",
    "\n",
    "alien.setup_logging()\n",
    "try:\n",
    "    j = alien.AliEn()\n",
    "    j.ProcessMsg('whoami -v')\n",
    "\n",
    "except SystemExit:\n",
    "    print(\"ERROR initializing AliEn session\")\n",
    "    print(\"Make sure you have a valid token by opening a SWAN terminal and running `alien-token-init`\")\n",
    "    \n"
   ]
  },
  {
   "cell_type": "markdown",
   "id": "eb446046",
   "metadata": {
    "slideshow": {
     "slide_type": "slide"
    }
   },
   "source": [
    "Querying the file catalog\n",
    "-----------------------------\n",
    "\n",
    "To look around, one can run simple AliEn commands and see the output (like on a terminal). "
   ]
  },
  {
   "cell_type": "code",
   "execution_count": 3,
   "id": "c6109477",
   "metadata": {},
   "outputs": [
    {
     "name": "stdout",
     "output_type": "stream",
     "text": [
      "o2_ctf_run00504428_orbit0000000124_tf0000000001.root\n",
      "o2_ctf_run00504428_orbit0000001020_tf0000000008.root\n",
      "o2_ctf_run00504428_orbit0000002428_tf0000000019.root\n",
      "o2_ctf_run00504428_orbit0000002812_tf0000000022.root\n",
      "o2_ctf_run00504428_orbit0000005756_tf0000000045.root\n",
      "o2_ctf_run00504428_orbit0000006268_tf0000000049.root\n",
      "o2_ctf_run00504428_orbit0000007036_tf0000000055.root\n",
      "o2_ctf_run00504428_orbit0000127356_tf0000000995.root\n",
      "o2_ctf_run00504428_orbit0000127612_tf0000000997.root\n",
      "o2_ctf_run00504428_orbit0000127868_tf0000000999.root\n",
      "o2_ctf_run00504428_orbit0000128508_tf0000001004.root\n",
      "o2_ctf_run00504428_orbit0000128764_tf0000001006.root\n",
      "o2_ctf_run00504428_orbit0000129532_tf0000001012.root\n",
      "o2_ctf_run00504428_orbit0000159356_tf0000001245.root\n",
      "o2_ctf_run00504428_orbit0000175484_tf0000001371.root\n",
      "o2_ctf_run00504428_orbit4294967295_tf0000000004.root\n",
      "o2_ctf_run00504428_orbit4294967295_tf0000000005.root\n",
      "o2_ctf_run00504428_orbit4294967295_tf0000000006.root\n",
      "o2_ctf_run00504428_orbit4294967295_tf0000000007.root\n",
      "o2_ctf_run00504428_orbit4294967295_tf0000000015.root\n",
      "o2_ctf_run00504428_orbit4294967295_tf0000000018.root\n",
      "o2_ctf_run00504428_orbit4294967295_tf0000000029.root\n",
      "o2_ctf_run00504428_orbit4294967295_tf0000000030.root\n",
      "o2_ctf_run00504428_orbit4294967295_tf0000000031.root\n",
      "o2_ctf_run00504428_orbit4294967295_tf0000000037.root\n",
      "o2_ctf_run00504428_orbit4294967295_tf0000000040.root\n",
      "o2_ctf_run00504428_orbit4294967295_tf0000000041.root\n",
      "o2_ctf_run00504428_orbit4294967295_tf0000000063.root\n",
      "o2_ctf_run00504428_orbit4294967295_tf0000000072.root\n",
      "o2_ctf_run00504428_orbit4294967295_tf0000000073.root\n",
      "o2_ctf_run00504428_orbit4294967295_tf0000000074.root\n",
      "o2_ctf_run00504428_orbit4294967295_tf0000000076.root\n",
      "o2_ctf_run00504428_orbit4294967295_tf0000001000.root\n",
      "o2_ctf_run00504428_orbit4294967295_tf0000001001.root\n",
      "o2_ctf_run00504428_orbit4294967295_tf0000001009.root\n",
      "o2_ctf_run00504428_orbit4294967295_tf0000001010.root\n",
      "o2_ctf_run00504428_orbit4294967295_tf0000001073.root\n",
      "o2_ctf_run00504428_orbit4294967295_tf0000001183.root\n"
     ]
    },
    {
     "data": {
      "text/plain": [
       "0"
      ]
     },
     "execution_count": 3,
     "metadata": {},
     "output_type": "execute_result"
    }
   ],
   "source": [
    "j.ProcessMsg('ls /alice/data/2021/OCT_TRD/504428/raw')"
   ]
  },
  {
   "cell_type": "markdown",
   "id": "757e5c36",
   "metadata": {},
   "source": [
    "### Generating file lists\n",
    "\n",
    "For systematic searches, it's probably better to retrieve the results in some Python data structures. Maybe they could even be converted to pandas data frames..."
   ]
  },
  {
   "cell_type": "code",
   "execution_count": 4,
   "id": "0fce6d4a",
   "metadata": {},
   "outputs": [
    {
     "data": {
      "text/plain": [
       "['/alice/data/2021/OCT_TRD/504428/raw/o2_ctf_run00504428_orbit0000000124_tf0000000001.root',\n",
       " '/alice/data/2021/OCT_TRD/504428/raw/o2_ctf_run00504428_orbit0000001020_tf0000000008.root',\n",
       " '/alice/data/2021/OCT_TRD/504428/raw/o2_ctf_run00504428_orbit0000002428_tf0000000019.root',\n",
       " '/alice/data/2021/OCT_TRD/504428/raw/o2_ctf_run00504428_orbit0000002812_tf0000000022.root',\n",
       " '/alice/data/2021/OCT_TRD/504428/raw/o2_ctf_run00504428_orbit0000005756_tf0000000045.root',\n",
       " '/alice/data/2021/OCT_TRD/504428/raw/o2_ctf_run00504428_orbit0000006268_tf0000000049.root',\n",
       " '/alice/data/2021/OCT_TRD/504428/raw/o2_ctf_run00504428_orbit0000007036_tf0000000055.root',\n",
       " '/alice/data/2021/OCT_TRD/504428/raw/o2_ctf_run00504428_orbit0000127356_tf0000000995.root',\n",
       " '/alice/data/2021/OCT_TRD/504428/raw/o2_ctf_run00504428_orbit0000127612_tf0000000997.root',\n",
       " '/alice/data/2021/OCT_TRD/504428/raw/o2_ctf_run00504428_orbit0000127868_tf0000000999.root',\n",
       " '/alice/data/2021/OCT_TRD/504428/raw/o2_ctf_run00504428_orbit0000128508_tf0000001004.root',\n",
       " '/alice/data/2021/OCT_TRD/504428/raw/o2_ctf_run00504428_orbit0000128764_tf0000001006.root',\n",
       " '/alice/data/2021/OCT_TRD/504428/raw/o2_ctf_run00504428_orbit0000129532_tf0000001012.root',\n",
       " '/alice/data/2021/OCT_TRD/504428/raw/o2_ctf_run00504428_orbit0000159356_tf0000001245.root',\n",
       " '/alice/data/2021/OCT_TRD/504428/raw/o2_ctf_run00504428_orbit0000175484_tf0000001371.root',\n",
       " '/alice/data/2021/OCT_TRD/504428/raw/o2_ctf_run00504428_orbit4294967295_tf0000000004.root',\n",
       " '/alice/data/2021/OCT_TRD/504428/raw/o2_ctf_run00504428_orbit4294967295_tf0000000005.root',\n",
       " '/alice/data/2021/OCT_TRD/504428/raw/o2_ctf_run00504428_orbit4294967295_tf0000000006.root',\n",
       " '/alice/data/2021/OCT_TRD/504428/raw/o2_ctf_run00504428_orbit4294967295_tf0000000007.root',\n",
       " '/alice/data/2021/OCT_TRD/504428/raw/o2_ctf_run00504428_orbit4294967295_tf0000000015.root',\n",
       " '/alice/data/2021/OCT_TRD/504428/raw/o2_ctf_run00504428_orbit4294967295_tf0000000018.root',\n",
       " '/alice/data/2021/OCT_TRD/504428/raw/o2_ctf_run00504428_orbit4294967295_tf0000000029.root',\n",
       " '/alice/data/2021/OCT_TRD/504428/raw/o2_ctf_run00504428_orbit4294967295_tf0000000030.root',\n",
       " '/alice/data/2021/OCT_TRD/504428/raw/o2_ctf_run00504428_orbit4294967295_tf0000000031.root',\n",
       " '/alice/data/2021/OCT_TRD/504428/raw/o2_ctf_run00504428_orbit4294967295_tf0000000037.root',\n",
       " '/alice/data/2021/OCT_TRD/504428/raw/o2_ctf_run00504428_orbit4294967295_tf0000000040.root',\n",
       " '/alice/data/2021/OCT_TRD/504428/raw/o2_ctf_run00504428_orbit4294967295_tf0000000041.root',\n",
       " '/alice/data/2021/OCT_TRD/504428/raw/o2_ctf_run00504428_orbit4294967295_tf0000000063.root',\n",
       " '/alice/data/2021/OCT_TRD/504428/raw/o2_ctf_run00504428_orbit4294967295_tf0000000072.root',\n",
       " '/alice/data/2021/OCT_TRD/504428/raw/o2_ctf_run00504428_orbit4294967295_tf0000000073.root',\n",
       " '/alice/data/2021/OCT_TRD/504428/raw/o2_ctf_run00504428_orbit4294967295_tf0000000074.root',\n",
       " '/alice/data/2021/OCT_TRD/504428/raw/o2_ctf_run00504428_orbit4294967295_tf0000000076.root',\n",
       " '/alice/data/2021/OCT_TRD/504428/raw/o2_ctf_run00504428_orbit4294967295_tf0000001000.root',\n",
       " '/alice/data/2021/OCT_TRD/504428/raw/o2_ctf_run00504428_orbit4294967295_tf0000001001.root',\n",
       " '/alice/data/2021/OCT_TRD/504428/raw/o2_ctf_run00504428_orbit4294967295_tf0000001009.root',\n",
       " '/alice/data/2021/OCT_TRD/504428/raw/o2_ctf_run00504428_orbit4294967295_tf0000001010.root',\n",
       " '/alice/data/2021/OCT_TRD/504428/raw/o2_ctf_run00504428_orbit4294967295_tf0000001073.root',\n",
       " '/alice/data/2021/OCT_TRD/504428/raw/o2_ctf_run00504428_orbit4294967295_tf0000001183.root']"
      ]
     },
     "metadata": {},
     "output_type": "display_data"
    }
   ],
   "source": [
    "import json\n",
    "from pprint import pprint\n",
    "res = j.run('ls /alice/data/2021/OCT_TRD/504428/raw')\n",
    "files = [x['path'] for x in res.ansdict['results']]\n",
    "display(files)"
   ]
  },
  {
   "cell_type": "code",
   "execution_count": 5,
   "id": "b819bbee",
   "metadata": {},
   "outputs": [
    {
     "name": "stdout",
     "output_type": "stream",
     "text": [
      "the file o2_ctf_run00504428_orbit0000000124_tf0000000001.root is in\n",
      "\n",
      "\t SE => ALICE::CERN::EOSALICEO2  pfn => root://eosaliceo2.cern.ch:1094//raw/2021/OCT_TRD/504428/raw/o2_ctf_run00504428_orbit0000000124_tf0000000001.root\n"
     ]
    },
    {
     "data": {
      "text/plain": [
       "0"
      ]
     },
     "execution_count": 5,
     "metadata": {},
     "output_type": "execute_result"
    }
   ],
   "source": [
    "# filename = \"/alice/data/2021/OCT_TRD/504428/raw/o2_ctf_run00504428_orbit4294967295_tf0000001073.root\"\n",
    "j.ProcessMsg(f\"whereis {files[0]}\")"
   ]
  },
  {
   "cell_type": "markdown",
   "id": "c97cf309",
   "metadata": {},
   "source": [
    "### Copying files\n",
    "\n",
    "It's straightforward to download a file with `alien.py`"
   ]
  },
  {
   "cell_type": "code",
   "execution_count": 7,
   "id": "feb1479c",
   "metadata": {},
   "outputs": [
    {
     "name": "stdout",
     "output_type": "stream",
     "text": [
      "jobID: 1/1 >>> Start\n",
      "jobID: 1/1 >>> STATUS OK >>> SPEED 108.51 MiB/s\n",
      "Succesful jobs (1st try): 1/1\n"
     ]
    },
    {
     "data": {
      "text/plain": [
       "0"
      ]
     },
     "execution_count": 7,
     "metadata": {},
     "output_type": "execute_result"
    }
   ],
   "source": [
    "j.ProcessMsg(f\"cp {files[0]} file:/tmp/bla.root\")"
   ]
  },
  {
   "cell_type": "code",
   "execution_count": 55,
   "id": "376114f7",
   "metadata": {},
   "outputs": [
    {
     "name": "stdout",
     "output_type": "stream",
     "text": [
      "TFile**\t\t/tmp/bla.root\t\n",
      " TFile*\t\t/tmp/bla.root\t\n",
      "  KEY: TTree\tctf;1\tO2 CTF tree\n"
     ]
    }
   ],
   "source": [
    "f1 = ROOT.TFile(\"/tmp/bla.root\")\n",
    "f1.ls()"
   ]
  },
  {
   "cell_type": "code",
   "execution_count": 66,
   "id": "b7797094",
   "metadata": {},
   "outputs": [
    {
     "name": "stdout",
     "output_type": "stream",
     "text": [
      "-rwxr-xr-x    tdietel  tdietel        21937 Nov 27 08:39    digfilter_digflt1.root\n"
     ]
    },
    {
     "data": {
      "text/plain": [
       "0"
      ]
     },
     "execution_count": 66,
     "metadata": {},
     "output_type": "execute_result"
    }
   ],
   "source": [
    "j.ProcessMsg(f\"ls -l /alice/cern.ch/user/t/tdietel/digfilter_digflt1/digfilter_digflt1.root\")"
   ]
  },
  {
   "cell_type": "markdown",
   "id": "bf91f1f7",
   "metadata": {},
   "source": [
    "ROOT Implementation of AliEn: TJAlien\n",
    "===============================\n",
    "\n",
    "TJAlien is the implementation in ROOT, and would be preferable to open a file directly from the grid, rather than copying it locally before opening it - although that assumes that xrootd access does not copy it locally itself.\n",
    "\n",
    "**THIS PART IS BROKEN, BUT I LEAVE IT IN AS A STARTING POINT**"
   ]
  },
  {
   "cell_type": "code",
   "execution_count": 6,
   "id": "a0add1d7",
   "metadata": {
    "scrolled": true
   },
   "outputs": [
    {
     "name": "stdout",
     "output_type": "stream",
     "text": [
      "Welcome to JupyROOT 6.24/06\n"
     ]
    }
   ],
   "source": [
    "import ROOT\n",
    "ali = ROOT.TJAlien(\"alien:///alice/data\")\n",
    "ali.Ls().Print()\n"
   ]
  },
  {
   "cell_type": "code",
   "execution_count": 10,
   "id": "e7759e1f",
   "metadata": {},
   "outputs": [],
   "source": [
    "#  alien = ROOT.TGridConnect(\"alien\", ROOT.gSystem.Getenv(\"USER\"), \"\", \"-domain=cern.ch\");"
   ]
  },
  {
   "cell_type": "code",
   "execution_count": 11,
   "id": "882f3e5c",
   "metadata": {},
   "outputs": [
    {
     "name": "stdout",
     "output_type": "stream",
     "text": [
      "( 000000 ) LFN: .../(null)                                             Size[Bytes]:     (null)   GUID: (null)\n",
      "( 000001 ) LFN: .../(null)                                             Size[Bytes]:     (null)   GUID: (null)\n",
      "( 000002 ) LFN: .../(null)                                             Size[Bytes]:     (null)   GUID: (null)\n",
      "( 000003 ) LFN: .../(null)                                             Size[Bytes]:     (null)   GUID: (null)\n",
      "( 000004 ) LFN: .../(null)                                             Size[Bytes]:     (null)   GUID: (null)\n",
      "( 000005 ) LFN: .../(null)                                             Size[Bytes]:     (null)   GUID: (null)\n",
      "( 000006 ) LFN: .../(null)                                             Size[Bytes]:     (null)   GUID: (null)\n",
      "( 000007 ) LFN: .../(null)                                             Size[Bytes]:     (null)   GUID: (null)\n",
      "( 000008 ) LFN: .../(null)                                             Size[Bytes]:     (null)   GUID: (null)\n",
      "( 000009 ) LFN: .../(null)                                             Size[Bytes]:     (null)   GUID: (null)\n",
      "( 000010 ) LFN: .../(null)                                             Size[Bytes]:     (null)   GUID: (null)\n",
      "( 000011 ) LFN: .../(null)                                             Size[Bytes]:     (null)   GUID: (null)\n",
      "( 000012 ) LFN: .../(null)                                             Size[Bytes]:     (null)   GUID: (null)\n",
      "( 000013 ) LFN: .../(null)                                             Size[Bytes]:     (null)   GUID: (null)\n",
      "( 000014 ) LFN: .../(null)                                             Size[Bytes]:     (null)   GUID: (null)\n",
      "( 000015 ) LFN: .../(null)                                             Size[Bytes]:     (null)   GUID: (null)\n",
      "( 000016 ) LFN: .../(null)                                             Size[Bytes]:     (null)   GUID: (null)\n",
      "( 000017 ) LFN: .../(null)                                             Size[Bytes]:     (null)   GUID: (null)\n",
      "( 000018 ) LFN: .../(null)                                             Size[Bytes]:     (null)   GUID: (null)\n",
      "( 000019 ) LFN: .../(null)                                             Size[Bytes]:     (null)   GUID: (null)\n",
      "( 000020 ) LFN: .../(null)                                             Size[Bytes]:     (null)   GUID: (null)\n",
      "( 000021 ) LFN: .../(null)                                             Size[Bytes]:     (null)   GUID: (null)\n",
      "( 000022 ) LFN: .../(null)                                             Size[Bytes]:     (null)   GUID: (null)\n",
      "( 000023 ) LFN: .../(null)                                             Size[Bytes]:     (null)   GUID: (null)\n",
      "( 000024 ) LFN: .../(null)                                             Size[Bytes]:     (null)   GUID: (null)\n",
      "( 000025 ) LFN: .../(null)                                             Size[Bytes]:     (null)   GUID: (null)\n",
      "( 000026 ) LFN: .../(null)                                             Size[Bytes]:     (null)   GUID: (null)\n",
      "( 000027 ) LFN: .../(null)                                             Size[Bytes]:     (null)   GUID: (null)\n",
      "( 000028 ) LFN: .../(null)                                             Size[Bytes]:     (null)   GUID: (null)\n",
      "( 000029 ) LFN: .../(null)                                             Size[Bytes]:     (null)   GUID: (null)\n",
      "( 000030 ) LFN: .../(null)                                             Size[Bytes]:     (null)   GUID: (null)\n",
      "( 000031 ) LFN: .../(null)                                             Size[Bytes]:     (null)   GUID: (null)\n",
      "( 000032 ) LFN: .../(null)                                             Size[Bytes]:     (null)   GUID: (null)\n",
      "( 000033 ) LFN: .../(null)                                             Size[Bytes]:     (null)   GUID: (null)\n",
      "( 000034 ) LFN: .../(null)                                             Size[Bytes]:     (null)   GUID: (null)\n",
      "( 000035 ) LFN: .../(null)                                             Size[Bytes]:     (null)   GUID: (null)\n",
      "( 000036 ) LFN: .../(null)                                             Size[Bytes]:     (null)   GUID: (null)\n",
      "( 000037 ) LFN: .../(null)                                             Size[Bytes]:     (null)   GUID: (null)\n",
      "------------------------------------------------------------\n",
      "-> Result contains 0.00 MB in 0 Files.\n"
     ]
    },
    {
     "name": "stderr",
     "output_type": "stream",
     "text": [
      "Error in <TUnixSystem::BaseName>: name = 0\n",
      "Error in <TUnixSystem::BaseName>: name = 0\n",
      "Error in <TUnixSystem::BaseName>: name = 0\n",
      "Error in <TUnixSystem::BaseName>: name = 0\n",
      "Error in <TUnixSystem::BaseName>: name = 0\n",
      "Error in <TUnixSystem::BaseName>: name = 0\n",
      "Error in <TUnixSystem::BaseName>: name = 0\n",
      "Error in <TUnixSystem::BaseName>: name = 0\n",
      "Error in <TUnixSystem::BaseName>: name = 0\n",
      "Error in <TUnixSystem::BaseName>: name = 0\n",
      "Error in <TUnixSystem::BaseName>: name = 0\n",
      "Error in <TUnixSystem::BaseName>: name = 0\n",
      "Error in <TUnixSystem::BaseName>: name = 0\n",
      "Error in <TUnixSystem::BaseName>: name = 0\n",
      "Error in <TUnixSystem::BaseName>: name = 0\n",
      "Error in <TUnixSystem::BaseName>: name = 0\n",
      "Error in <TUnixSystem::BaseName>: name = 0\n",
      "Error in <TUnixSystem::BaseName>: name = 0\n",
      "Error in <TUnixSystem::BaseName>: name = 0\n",
      "Error in <TUnixSystem::BaseName>: name = 0\n",
      "Error in <TUnixSystem::BaseName>: name = 0\n",
      "Error in <TUnixSystem::BaseName>: name = 0\n",
      "Error in <TUnixSystem::BaseName>: name = 0\n",
      "Error in <TUnixSystem::BaseName>: name = 0\n",
      "Error in <TUnixSystem::BaseName>: name = 0\n",
      "Error in <TUnixSystem::BaseName>: name = 0\n",
      "Error in <TUnixSystem::BaseName>: name = 0\n",
      "Error in <TUnixSystem::BaseName>: name = 0\n",
      "Error in <TUnixSystem::BaseName>: name = 0\n",
      "Error in <TUnixSystem::BaseName>: name = 0\n",
      "Error in <TUnixSystem::BaseName>: name = 0\n",
      "Error in <TUnixSystem::BaseName>: name = 0\n",
      "Error in <TUnixSystem::BaseName>: name = 0\n",
      "Error in <TUnixSystem::BaseName>: name = 0\n",
      "Error in <TUnixSystem::BaseName>: name = 0\n",
      "Error in <TUnixSystem::BaseName>: name = 0\n",
      "Error in <TUnixSystem::BaseName>: name = 0\n",
      "Error in <TUnixSystem::BaseName>: name = 0\n"
     ]
    }
   ],
   "source": [
    "filename = \"/alice/data/2021/OCT_TRD/504428/raw/o2_ctf_run00504428_orbit4294967295_tf0000001073.root\"\n",
    "ali.Ls(\"/alice/data/2021/OCT_TRD/504428/raw/\").Print()"
   ]
  },
  {
   "cell_type": "code",
   "execution_count": 42,
   "id": "a972c5cb",
   "metadata": {},
   "outputs": [
    {
     "name": "stderr",
     "output_type": "stream",
     "text": [
      "Error in <TNetXNGFile::Open>: [ERROR] Server responded with an error: [3010] Unable to open /raw/2021/OCT_TRD/504428/raw/o2_ctf_run00504428_orbit0000000124_tf0000000001.root; Permission denied\n",
      "\n"
     ]
    }
   ],
   "source": [
    "f2 = ROOT.TJAlienFile(\"root://eosaliceo2.cern.ch:1094//raw/2021/OCT_TRD/504428/raw/o2_ctf_run00504428_orbit0000000124_tf0000000001.root\")"
   ]
  },
  {
   "cell_type": "code",
   "execution_count": 10,
   "id": "fb034b2a",
   "metadata": {},
   "outputs": [
    {
     "name": "stderr",
     "output_type": "stream",
     "text": [
      "Error in <TNetXNGFile::Open>: [ERROR] Operation expired\n"
     ]
    }
   ],
   "source": [
    "f = ROOT.TJAlienFile(\"/alice/data/2021/OCT_TRD/504428/raw/o2_ctf_run00504428_orbit4294967295_tf0000001073.root\")"
   ]
  },
  {
   "cell_type": "code",
   "execution_count": null,
   "id": "4de23878",
   "metadata": {},
   "outputs": [],
   "source": [
    "f.ls()"
   ]
  },
  {
   "cell_type": "code",
   "execution_count": null,
   "id": "7579d2b6",
   "metadata": {},
   "outputs": [],
   "source": [
    "h = ROOT.TH1F(\"bla\",\"foo\", 40,0., 10.)"
   ]
  },
  {
   "cell_type": "code",
   "execution_count": null,
   "id": "b793d408",
   "metadata": {},
   "outputs": [],
   "source": [
    "cnv = ROOT.TCanvas()\n",
    "h.Draw()\n",
    "cnv.Draw()"
   ]
  },
  {
   "cell_type": "code",
   "execution_count": 10,
   "id": "f77e4bee",
   "metadata": {},
   "outputs": [
    {
     "name": "stdout",
     "output_type": "stream",
     "text": [
      "<cppyy.gbl.o2.trd.Hit object at 0x7775170>\n"
     ]
    }
   ],
   "source": [
    "hit = ROOT.o2.trd.Hit(1,2,3,4,42,666,1)\n",
    "print(hit)"
   ]
  },
  {
   "cell_type": "code",
   "execution_count": null,
   "id": "43e6dd5f",
   "metadata": {},
   "outputs": [],
   "source": [
    "alien = ROOT.TJAlien(\"alien:///alice/data\")"
   ]
  },
  {
   "cell_type": "code",
   "execution_count": null,
   "id": "5687da26",
   "metadata": {},
   "outputs": [],
   "source": [
    "alien.Ls()"
   ]
  }
 ],
 "metadata": {
  "celltoolbar": "Slideshow",
  "kernelspec": {
   "display_name": "Python 3",
   "language": "python",
   "name": "python3"
  },
  "language_info": {
   "codemirror_mode": {
    "name": "ipython",
    "version": 3
   },
   "file_extension": ".py",
   "mimetype": "text/x-python",
   "name": "python",
   "nbconvert_exporter": "python",
   "pygments_lexer": "ipython3",
   "version": "3.6.10"
  }
 },
 "nbformat": 4,
 "nbformat_minor": 5
}

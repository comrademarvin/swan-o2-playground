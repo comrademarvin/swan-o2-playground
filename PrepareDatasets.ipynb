{
 "cells": [
  {
   "cell_type": "code",
   "execution_count": 1,
   "id": "36805026",
   "metadata": {},
   "outputs": [
    {
     "name": "stdout",
     "output_type": "stream",
     "text": [
      "Using directory '/eos/user/t/tdietel/data' for data files\n",
      "Activating TRD SWAN stuff from /home/tdietel/O2 Playground\n",
      "Username: tdietel\n",
      "Role: tdietel (other roles: trddrop)\n",
      "Full name: Thomas Dietel\n",
      "Email: Tom.Dietel@cern.ch\n",
      "Certificate DN: OU=tdietel, CN=tdietel, CN=Users, O=AliEn2, C=ch (expiring on 2022-05-29T12:25:40+02:00[Europe/Zurich], which is in 30d 19:28)\n",
      "Connected from: 188.184.38.69\n",
      "Home directory: /alice/cern.ch/user/t/tdietel/\n"
     ]
    }
   ],
   "source": [
    "# Default imports and basic settings\n",
    "import os\n",
    "import sys\n",
    "import pathlib\n",
    "\n",
    "for i in ['CERNBOX_HOMEDIR', 'HOME']:\n",
    "    if i in os.environ.keys():\n",
    "        datadir = pathlib.Path(os.environ[i]) / \"data\"\n",
    "        break\n",
    "else:\n",
    "    datadir = 'data/'\n",
    "print(f\"Using directory '{datadir}' for data files\")   \n",
    "\n",
    "sys.path.append(f\"{os.environ['PWD']}/O2 Playground\")\n",
    "print(f\"Activating TRD SWAN stuff from {os.environ['PWD']}/O2 Playground\")\n",
    "import trdswanutils as trd"
   ]
  },
  {
   "cell_type": "code",
   "execution_count": 2,
   "id": "0d9e6df3",
   "metadata": {},
   "outputs": [],
   "source": [
    "# run = 504419\n",
    "# # run = 504428 # suggested by Archita on MM, 20 April 2022\n",
    "# # filepattern = f\"/alice/data/2021/OCT/{run}/raw\"\n",
    "\n",
    "# outdir = datadir / f\"pilot/{run}\"\n",
    "\n",
    "# from pathlib import Path\n",
    "# Path(outdir).mkdir(parents=True, exist_ok=True)\n",
    "# %cd $outdir"
   ]
  },
  {
   "cell_type": "markdown",
   "id": "186eb960",
   "metadata": {
    "slideshow": {
     "slide_type": "slide"
    }
   },
   "source": [
    "Runs - Pilot Beam\n",
    "==============\n",
    "\n",
    "Anastasia wrote on 16 Feb 2022 in an email:\n",
    "> some time ago we discussed which run is the best and Ole recommended 505673 (2h) or 505658 (2h), magnets +/+ (for more info you can see [Taku’s table](https://docs.google.com/spreadsheets/d/1Nea1mitHrerJJQkL1TVOypeTxvLRTbPdYlj8r0K2c5g/edit#gid=0))\n"
   ]
  },
  {
   "cell_type": "code",
   "execution_count": 3,
   "id": "36e95c48",
   "metadata": {},
   "outputs": [
    {
     "data": {
      "text/html": [
       "<div>\n",
       "<style scoped>\n",
       "    .dataframe tbody tr th:only-of-type {\n",
       "        vertical-align: middle;\n",
       "    }\n",
       "\n",
       "    .dataframe tbody tr th {\n",
       "        vertical-align: top;\n",
       "    }\n",
       "\n",
       "    .dataframe thead th {\n",
       "        text-align: right;\n",
       "    }\n",
       "</style>\n",
       "<table border=\"1\" class=\"dataframe\">\n",
       "  <thead>\n",
       "    <tr style=\"text-align: right;\">\n",
       "      <th></th>\n",
       "      <th>run</th>\n",
       "      <th>year</th>\n",
       "      <th>period</th>\n",
       "      <th>start</th>\n",
       "      <th>end</th>\n",
       "      <th>duration</th>\n",
       "      <th>TRD</th>\n",
       "      <th>ctf_pattern</th>\n",
       "      <th>rawtf_pattern</th>\n",
       "    </tr>\n",
       "  </thead>\n",
       "  <tbody>\n",
       "    <tr>\n",
       "      <th>21</th>\n",
       "      <td>505658</td>\n",
       "      <td>2021</td>\n",
       "      <td>OCT</td>\n",
       "      <td>2:55:45</td>\n",
       "      <td>5:01:00</td>\n",
       "      <td>2:05:15</td>\n",
       "      <td>True</td>\n",
       "      <td>/alice/data/2021/OCT/505658/raw/0???/o2_ctf_*....</td>\n",
       "      <td>/alice/data/2021/OCT/505658/raw/0???/o2_rawtf_...</td>\n",
       "    </tr>\n",
       "    <tr>\n",
       "      <th>23</th>\n",
       "      <td>505673</td>\n",
       "      <td>2021</td>\n",
       "      <td>OCT</td>\n",
       "      <td>6:44:27</td>\n",
       "      <td>8:53:09</td>\n",
       "      <td>2:08:42</td>\n",
       "      <td>True</td>\n",
       "      <td>/alice/data/2021/OCT/505673/raw/0???/o2_ctf_*....</td>\n",
       "      <td>/alice/data/2021/OCT/505673/raw/0???/o2_rawtf_...</td>\n",
       "    </tr>\n",
       "  </tbody>\n",
       "</table>\n",
       "</div>"
      ],
      "text/plain": [
       "       run  year period    start      end duration   TRD  \\\n",
       "21  505658  2021    OCT  2:55:45  5:01:00  2:05:15  True   \n",
       "23  505673  2021    OCT  6:44:27  8:53:09  2:08:42  True   \n",
       "\n",
       "                                          ctf_pattern  \\\n",
       "21  /alice/data/2021/OCT/505658/raw/0???/o2_ctf_*....   \n",
       "23  /alice/data/2021/OCT/505673/raw/0???/o2_ctf_*....   \n",
       "\n",
       "                                        rawtf_pattern  \n",
       "21  /alice/data/2021/OCT/505658/raw/0???/o2_rawtf_...  \n",
       "23  /alice/data/2021/OCT/505673/raw/0???/o2_rawtf_...  "
      ]
     },
     "execution_count": 3,
     "metadata": {},
     "output_type": "execute_result"
    }
   ],
   "source": [
    "# Read Taku's table\n",
    "\n",
    "import pandas as pd\n",
    "import numpy as np\n",
    "taku_table = pd.read_csv(\"https://docs.google.com/spreadsheets/d/\"\n",
    "            \"1Nea1mitHrerJJQkL1TVOypeTxvLRTbPdYlj8r0K2c5g\"\n",
    "            \"/gviz/tq?tqx=out:csv\")\n",
    "\n",
    "# display(pilot_runs.columns)\n",
    "\n",
    "taku_table = taku_table.loc[pd.notna(taku_table['Run '])]\n",
    "\n",
    "all_pilot_runs = pd.DataFrame( {\n",
    "    'run': taku_table['Run '].astype(int),\n",
    "    'year': 2021,\n",
    "    'period': 'OCT',\n",
    "    'start': taku_table['Start'],\n",
    "    'end': taku_table['End'],\n",
    "    'duration': taku_table['End-Start'],\n",
    "    'TRD': taku_table['TRD'] == 'O'\n",
    "})\n",
    "\n",
    "all_pilot_runs['ctf_pattern'] = all_pilot_runs['run'].apply(\n",
    "    lambda run: f\"/alice/data/2021/OCT/{run}/raw/0???/o2_ctf_*.root\")\n",
    "all_pilot_runs['rawtf_pattern'] = all_pilot_runs['run'].apply(\n",
    "    lambda run: f\"/alice/data/2021/OCT/{run}/raw/0???/o2_rawtf_*.tf\")\n",
    "\n",
    "\n",
    "all_pilot_runs\n",
    "\n",
    "# Only use pilot runs recommended by Ole\n",
    "pilot_runs = all_pilot_runs.loc[[21,23]]\n",
    "pilot_runs\n"
   ]
  },
  {
   "cell_type": "markdown",
   "id": "7212eac4",
   "metadata": {
    "slideshow": {
     "slide_type": "slide"
    }
   },
   "source": [
    "Noise Runs\n",
    "=========\n"
   ]
  },
  {
   "cell_type": "code",
   "execution_count": 4,
   "id": "74619638",
   "metadata": {},
   "outputs": [
    {
     "data": {
      "text/html": [
       "<div>\n",
       "<style scoped>\n",
       "    .dataframe tbody tr th:only-of-type {\n",
       "        vertical-align: middle;\n",
       "    }\n",
       "\n",
       "    .dataframe tbody tr th {\n",
       "        vertical-align: top;\n",
       "    }\n",
       "\n",
       "    .dataframe thead th {\n",
       "        text-align: right;\n",
       "    }\n",
       "</style>\n",
       "<table border=\"1\" class=\"dataframe\">\n",
       "  <thead>\n",
       "    <tr style=\"text-align: right;\">\n",
       "      <th></th>\n",
       "      <th>run</th>\n",
       "      <th>year</th>\n",
       "      <th>period</th>\n",
       "      <th>ctf_pattern</th>\n",
       "      <th>rawtf_pattern</th>\n",
       "    </tr>\n",
       "  </thead>\n",
       "  <tbody>\n",
       "    <tr>\n",
       "      <th>0</th>\n",
       "      <td>504419</td>\n",
       "      <td>2021</td>\n",
       "      <td>OCT_TRD</td>\n",
       "      <td>/alice/data/2021/OCT_TRD/504419/raw/o2_ctf_*.root</td>\n",
       "      <td>/alice/data/2021/OCT/504419/raw/o2_rawtf_*.tf</td>\n",
       "    </tr>\n",
       "    <tr>\n",
       "      <th>1</th>\n",
       "      <td>504428</td>\n",
       "      <td>2021</td>\n",
       "      <td>OCT_TRD</td>\n",
       "      <td>/alice/data/2021/OCT_TRD/504428/raw/o2_ctf_*.root</td>\n",
       "      <td>/alice/data/2021/OCT/504428/raw/o2_rawtf_*.tf</td>\n",
       "    </tr>\n",
       "  </tbody>\n",
       "</table>\n",
       "</div>"
      ],
      "text/plain": [
       "      run  year   period                                        ctf_pattern  \\\n",
       "0  504419  2021  OCT_TRD  /alice/data/2021/OCT_TRD/504419/raw/o2_ctf_*.root   \n",
       "1  504428  2021  OCT_TRD  /alice/data/2021/OCT_TRD/504428/raw/o2_ctf_*.root   \n",
       "\n",
       "                                   rawtf_pattern  \n",
       "0  /alice/data/2021/OCT/504419/raw/o2_rawtf_*.tf  \n",
       "1  /alice/data/2021/OCT/504428/raw/o2_rawtf_*.tf  "
      ]
     },
     "execution_count": 4,
     "metadata": {},
     "output_type": "execute_result"
    }
   ],
   "source": [
    "# check_run_list = pd.concat(check_runs)\n",
    "noise_runs = pd.DataFrame( {\n",
    "    \"run\": [ 504419, 504428 ],\n",
    "    \"year\": 2021, \n",
    "    \"period\": \"OCT_TRD\",\n",
    "} )\n",
    "\n",
    "noise_runs['ctf_pattern'] = noise_runs['run'].apply(\n",
    "    lambda run: f\"/alice/data/2021/OCT_TRD/{run}/raw/o2_ctf_*.root\")\n",
    "noise_runs['rawtf_pattern'] = noise_runs['run'].apply(\n",
    "    lambda run: f\"/alice/data/2021/OCT/{run}/raw/o2_rawtf_*.tf\")\n",
    "\n",
    "noise_runs"
   ]
  },
  {
   "cell_type": "markdown",
   "id": "88ccab88",
   "metadata": {},
   "source": [
    "Query file catalog\n",
    "==============\n",
    "\n",
    "For each run in `check_runs`, we query the file catalog to get the number and size of TFs and CTFs.\n",
    "\n",
    "This can take a long time, maybe we should implement caching."
   ]
  },
  {
   "cell_type": "code",
   "execution_count": 5,
   "id": "c7d2a77c",
   "metadata": {},
   "outputs": [
    {
     "name": "stdout",
     "output_type": "stream",
     "text": [
      "Determining available statistics for requested runs\n",
      "AliEn ls: /alice/data/2021/OCT/505658/raw/0???/o2_ctf_*.root\n",
      "AliEn ls: /alice/data/2021/OCT/505673/raw/0???/o2_ctf_*.root\n",
      "AliEn ls: /alice/data/2021/OCT_TRD/504419/raw/o2_ctf_*.root\n",
      "AliEn ls: /alice/data/2021/OCT_TRD/504428/raw/o2_ctf_*.root\n",
      "AliEn ls: /alice/data/2021/OCT/505658/raw/0???/o2_rawtf_*.tf\n",
      "AliEn ls: /alice/data/2021/OCT/505673/raw/0???/o2_rawtf_*.tf\n",
      "AliEn ls: /alice/data/2021/OCT/504419/raw/o2_rawtf_*.tf\n",
      "AliEn ls: /alice/data/2021/OCT/504428/raw/o2_rawtf_*.tf\n"
     ]
    },
    {
     "data": {
      "text/html": [
       "<div>\n",
       "<style scoped>\n",
       "    .dataframe tbody tr th:only-of-type {\n",
       "        vertical-align: middle;\n",
       "    }\n",
       "\n",
       "    .dataframe tbody tr th {\n",
       "        vertical-align: top;\n",
       "    }\n",
       "\n",
       "    .dataframe thead th {\n",
       "        text-align: right;\n",
       "    }\n",
       "</style>\n",
       "<table border=\"1\" class=\"dataframe\">\n",
       "  <thead>\n",
       "    <tr style=\"text-align: right;\">\n",
       "      <th></th>\n",
       "      <th>run</th>\n",
       "      <th>ctf_files</th>\n",
       "      <th>ctf_size</th>\n",
       "      <th>rawtf_files</th>\n",
       "      <th>rawtf_size</th>\n",
       "    </tr>\n",
       "  </thead>\n",
       "  <tbody>\n",
       "    <tr>\n",
       "      <th>0</th>\n",
       "      <td>505658</td>\n",
       "      <td>1258</td>\n",
       "      <td>2410795864591</td>\n",
       "      <td>170746</td>\n",
       "      <td>338661042440398</td>\n",
       "    </tr>\n",
       "    <tr>\n",
       "      <th>1</th>\n",
       "      <td>505673</td>\n",
       "      <td>1218</td>\n",
       "      <td>2245653671863</td>\n",
       "      <td>165743</td>\n",
       "      <td>327205659762528</td>\n",
       "    </tr>\n",
       "    <tr>\n",
       "      <th>2</th>\n",
       "      <td>504419</td>\n",
       "      <td>1297</td>\n",
       "      <td>655511204728</td>\n",
       "      <td>2</td>\n",
       "      <td>47937776</td>\n",
       "    </tr>\n",
       "    <tr>\n",
       "      <th>3</th>\n",
       "      <td>504428</td>\n",
       "      <td>38</td>\n",
       "      <td>23111247743</td>\n",
       "      <td>0</td>\n",
       "      <td>0</td>\n",
       "    </tr>\n",
       "  </tbody>\n",
       "</table>\n",
       "</div>"
      ],
      "text/plain": [
       "      run  ctf_files       ctf_size  rawtf_files       rawtf_size\n",
       "0  505658       1258  2410795864591       170746  338661042440398\n",
       "1  505673       1218  2245653671863       165743  327205659762528\n",
       "2  504419       1297   655511204728            2         47937776\n",
       "3  504428         38    23111247743            0                0"
      ]
     },
     "execution_count": 5,
     "metadata": {},
     "output_type": "execute_result"
    }
   ],
   "source": [
    "check_runs = pd.concat([pilot_runs, noise_runs], ignore_index=True, sort=False)\n",
    "# display(check_runs)\n",
    "\n",
    "print(\"Determining available statistics for requested runs\")\n",
    "def file_summary(row):\n",
    "    print(f\"AliEn ls: {row[0]}\")\n",
    "    fileinfo = trd.alien_ls(row[0])\n",
    "#     print(len(fileinfo), sum([x.size for x in fileinfo]))\n",
    "    return len(fileinfo), sum([x.size for x in fileinfo])\n",
    "\n",
    "check_runs[['ctf_files','ctf_size']] = check_runs[['ctf_pattern']].apply(\n",
    "    file_summary, axis='columns', result_type='expand')\n",
    "\n",
    "check_runs[['rawtf_files','rawtf_size']] = check_runs[['rawtf_pattern']].apply(\n",
    "    file_summary, axis='columns', result_type='expand')\n",
    "\n",
    "check_runs[['run', 'ctf_files', 'ctf_size', 'rawtf_files', 'rawtf_size']]"
   ]
  },
  {
   "cell_type": "code",
   "execution_count": 16,
   "id": "7c4509c0",
   "metadata": {},
   "outputs": [],
   "source": [
    "def get_file_list(run, filetype, outfile=None, maxfiles=None):\n",
    "    if isinstance(outfile,str):\n",
    "        outfile = pathlib.Path(outfile)\n",
    "    pattern = check_runs.loc[check_runs['run']==504419][filetype+'_pattern']\n",
    "    fileinfo = trd.alien_ls(pattern)\n",
    "\n",
    "    if outfile is None:\n",
    "        return fileinfo\n",
    "    else:\n",
    "        outdir = outfile.parent #pathlib.Path(outdir)\n",
    "        outdir.mkdir(parents=True, exist_ok=True)\n",
    "        print(f\"Write list of {len(fileinfo)} files to {outfile}\")\n",
    "        with open(outfile,\"w\") as of:\n",
    "            for f in fileinfo:\n",
    "                of.write(str(f.path)+\"\\n\")"
   ]
  },
  {
   "cell_type": "markdown",
   "id": "c97cf309",
   "metadata": {},
   "source": [
    "Export information\n",
    "===============\n",
    "\n",
    "In the following, we export the collected information to create data sets. This will be a rather manual process, so we will not automate it, and prevent the notebook from executing it automatically."
   ]
  },
  {
   "cell_type": "code",
   "execution_count": 7,
   "id": "0dae3232",
   "metadata": {},
   "outputs": [
    {
     "ename": "AssertionError",
     "evalue": "",
     "output_type": "error",
     "traceback": [
      "\u001b[0;31m---------------------------------------------------------------------------\u001b[0m",
      "\u001b[0;31mAssertionError\u001b[0m                            Traceback (most recent call last)",
      "\u001b[0;32m<ipython-input-7-fc0039f9673b>\u001b[0m in \u001b[0;36m<module>\u001b[0;34m\u001b[0m\n\u001b[1;32m      1\u001b[0m \u001b[0;31m# Make sure the notebook does not proceed beyond this point automatically\u001b[0m\u001b[0;34m\u001b[0m\u001b[0;34m\u001b[0m\u001b[0;34m\u001b[0m\u001b[0m\n\u001b[0;32m----> 2\u001b[0;31m \u001b[0;32massert\u001b[0m\u001b[0;34m(\u001b[0m\u001b[0;32mFalse\u001b[0m\u001b[0;34m)\u001b[0m\u001b[0;34m\u001b[0m\u001b[0;34m\u001b[0m\u001b[0m\n\u001b[0m",
      "\u001b[0;31mAssertionError\u001b[0m: "
     ]
    }
   ],
   "source": [
    "# Make sure the notebook does not proceed beyond this point automatically\n",
    "assert(False)"
   ]
  },
  {
   "cell_type": "markdown",
   "id": "4f8cc505",
   "metadata": {},
   "source": [
    "Create directory for output files\n",
    "-------------------------------------\n",
    "\n",
    "Create a directory where all the files will be created"
   ]
  },
  {
   "cell_type": "code",
   "execution_count": 14,
   "id": "c39455c5",
   "metadata": {},
   "outputs": [
    {
     "name": "stdout",
     "output_type": "stream",
     "text": [
      "/eos/home-t/tdietel/data/noise3\n",
      "total 0\n"
     ]
    }
   ],
   "source": [
    "outdir = datadir / \"noise3\"\n",
    "outdir.mkdir(parents=True, exist_ok=True)\n",
    "%cd {outdir}\n",
    "%ls -l"
   ]
  },
  {
   "cell_type": "markdown",
   "id": "9f0dea8c",
   "metadata": {},
   "source": [
    "Create file list\n",
    "----------------\n",
    "\n",
    "The file list is saved in a text file that can be used by e.g. the `o2-ctf-reader-workflow`."
   ]
  },
  {
   "cell_type": "code",
   "execution_count": 17,
   "id": "0211628d",
   "metadata": {},
   "outputs": [
    {
     "name": "stdout",
     "output_type": "stream",
     "text": [
      "Write list of 2 files to files.txt\n",
      "total 1\n",
      "-rw-r--r--. 1 tdietel 1395 134 Apr 28 17:07 files.txt\n"
     ]
    }
   ],
   "source": [
    "get_file_list(504419, 'rawtf', outfile=\"files.txt\", maxfiles=100)\n",
    "%ls -l"
   ]
  },
  {
   "cell_type": "markdown",
   "id": "132de8c0",
   "metadata": {},
   "source": [
    "## Script to convert timeframe to digits/tracklets\n",
    "\n",
    "Note that you will have to run this script on lxplus for the actual conversion."
   ]
  },
  {
   "cell_type": "code",
   "execution_count": 18,
   "id": "eab43a00",
   "metadata": {},
   "outputs": [
    {
     "name": "stdout",
     "output_type": "stream",
     "text": [
      "Generated file 'ctf2trd.sh'\n"
     ]
    }
   ],
   "source": [
    "%%genfile -m 0755 ctf2trd.sh\n",
    "#!/bin/sh\n",
    "\n",
    "eval $(alienv printenv VO_ALICE@O2::nightly-20220124-1)\n",
    "o2-ctf-reader-workflow --onlyDet TRD --ctf-input files.txt \\\n",
    "| o2-trd-digittracklet-writer \\\n",
    "| o2-dpl-run --run --batch\n"
   ]
  },
  {
   "cell_type": "markdown",
   "id": "e579c19a",
   "metadata": {},
   "source": [
    "Create a Makefile\n",
    "-----------------\n",
    "\n",
    "The Makefile provides a few handy shortcuts."
   ]
  },
  {
   "cell_type": "code",
   "execution_count": 26,
   "id": "917d47b4",
   "metadata": {},
   "outputs": [
    {
     "name": "stdout",
     "output_type": "stream",
     "text": [
      "Generated file 'Makefile'\n"
     ]
    }
   ],
   "source": [
    "%%genfile Makefile\n",
    "\n",
    "help: Makefile ## Print this help text\n",
    "    @perl -nle 'printf(\"  %-20s %s\\n\",$$1,$$2) if /^(\\S+):.*##\\s*(.*)/' $^\n",
    "\n",
    "ctf2trd: trddigits.root trdtracklets.root ## Convert CTF to digits, tracklets files\n",
    "\n",
    "trddigits.root trdtracklets.root: ctf2trd.sh files.txt\n",
    "    ./ctf2trd.sh\n",
    "    \n",
    "clean: ## Clean up\n",
    "    rm -f trdtracklets.root trddigits.root\n",
    "    rm -f core_dump_*"
   ]
  },
  {
   "cell_type": "code",
   "execution_count": 24,
   "id": "63567b4c",
   "metadata": {},
   "outputs": [
    {
     "name": "stdout",
     "output_type": "stream",
     "text": [
      "total 2\r\n",
      "-rwxr-xr-x. 1 tdietel 1395 187 Apr 28 17:08 \u001b[0m\u001b[01;32mctf2trd.sh\u001b[0m*\r\n",
      "-rw-r--r--. 1 tdietel 1395 134 Apr 28 17:07 files.txt\r\n",
      "-rw-r--r--. 1 tdietel 1395 178 Apr 28 17:09 Makefile\r\n"
     ]
    }
   ],
   "source": [
    "%ls -l"
   ]
  },
  {
   "cell_type": "code",
   "execution_count": null,
   "id": "6e58f97d",
   "metadata": {},
   "outputs": [],
   "source": []
  }
 ],
 "metadata": {
  "celltoolbar": "Slideshow",
  "kernelspec": {
   "display_name": "Python 3",
   "language": "python",
   "name": "python3"
  },
  "language_info": {
   "codemirror_mode": {
    "name": "ipython",
    "version": 3
   },
   "file_extension": ".py",
   "mimetype": "text/x-python",
   "name": "python",
   "nbconvert_exporter": "python",
   "pygments_lexer": "ipython3",
   "version": "3.6.10"
  }
 },
 "nbformat": 4,
 "nbformat_minor": 5
}

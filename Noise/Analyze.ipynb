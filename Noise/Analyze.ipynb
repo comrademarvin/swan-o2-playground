{
 "cells": [
  {
   "cell_type": "code",
   "execution_count": 2,
   "id": "8e40b4d9",
   "metadata": {},
   "outputs": [],
   "source": [
    "run = 504419 # reasonable, low-rate run\n",
    "# run = 504428 # high-rate run with problems\n",
    "datadir = f\"/eos/user/t/tdietel/data/noise/{run}/\""
   ]
  },
  {
   "cell_type": "code",
   "execution_count": 3,
   "id": "9239db94",
   "metadata": {},
   "outputs": [
    {
     "name": "stdout",
     "output_type": "stream",
     "text": [
      "Welcome to JupyROOT 6.24/06\n"
     ]
    },
    {
     "data": {
      "text/plain": [
       "0"
      ]
     },
     "execution_count": 3,
     "metadata": {},
     "output_type": "execute_result"
    }
   ],
   "source": [
    "import ROOT\n",
    "\n",
    "ROOT.gROOT.LoadMacro(\"DataManager.C\")"
   ]
  },
  {
   "cell_type": "code",
   "execution_count": 3,
   "id": "5d729c74",
   "metadata": {},
   "outputs": [],
   "source": [
    "# Pythonize iterators\n",
    "def iter_helper(x):\n",
    "    x._current = x.begin()\n",
    "    return x\n",
    "\n",
    "def next_helper(x):\n",
    "    if x._current == x.end():\n",
    "        raise StopIteration\n",
    "    else: \n",
    "        itr = x._current\n",
    "        x._current += 1\n",
    "        return itr.__deref__()\n",
    "    \n",
    "ROOT.DataManager.DigitRange.__iter__ = iter_helper\n",
    "ROOT.DataManager.DigitRange.__next__ = next_helper"
   ]
  },
  {
   "cell_type": "code",
   "execution_count": 4,
   "id": "f2cd4847",
   "metadata": {},
   "outputs": [],
   "source": [
    "## This will be nice when pythonization is available (ROOT 6.26 or so...)\n",
    "# from ROOT import pythonization\n",
    "\n",
    "# @pythonization('o2::trd::Digit')\n",
    "# def pythonizor_for_digits(klass):\n",
    "#     klass.__str__ = lambda d : f'{d.getDetector()}:{d.getROB()}:{d.getMCM():02d}'\n",
    "\n",
    "\n",
    "# In the meantime, this version is actually just as good\n",
    "def fmt_digit(d):\n",
    "    det = d.getDetector()\n",
    "    r = f'{det:03d}->{det//30:02d}_{(det%30)//5}_{det%6}'\n",
    "    r += f' {d.getROB()}:{d.getMCM():02d} ch{d.getChannel()}'\n",
    "    return r\n",
    "\n",
    "ROOT.o2.trd.Digit.__str__ = fmt_digit\n",
    "            "
   ]
  },
  {
   "cell_type": "code",
   "execution_count": 1,
   "id": "c01d0f10",
   "metadata": {},
   "outputs": [
    {
     "ename": "NameError",
     "evalue": "name 'ROOT' is not defined",
     "output_type": "error",
     "traceback": [
      "\u001b[0;31m---------------------------------------------------------------------------\u001b[0m",
      "\u001b[0;31mNameError\u001b[0m                                 Traceback (most recent call last)",
      "\u001b[0;32m<ipython-input-1-a54035900506>\u001b[0m in \u001b[0;36m<module>\u001b[0;34m\u001b[0m\n\u001b[0;32m----> 1\u001b[0;31m \u001b[0mdman\u001b[0m \u001b[0;34m=\u001b[0m \u001b[0mROOT\u001b[0m\u001b[0;34m.\u001b[0m\u001b[0mDataManager\u001b[0m\u001b[0;34m(\u001b[0m\u001b[0mdatadir\u001b[0m\u001b[0;34m)\u001b[0m\u001b[0;34m\u001b[0m\u001b[0;34m\u001b[0m\u001b[0m\n\u001b[0m\u001b[1;32m      2\u001b[0m \u001b[0mdman\u001b[0m\u001b[0;34m.\u001b[0m\u001b[0mNextTimeFrame\u001b[0m\u001b[0;34m(\u001b[0m\u001b[0;34m)\u001b[0m\u001b[0;34m\u001b[0m\u001b[0;34m\u001b[0m\u001b[0m\n\u001b[1;32m      3\u001b[0m \u001b[0mdman\u001b[0m\u001b[0;34m.\u001b[0m\u001b[0mNextEvent\u001b[0m\u001b[0;34m(\u001b[0m\u001b[0;34m)\u001b[0m\u001b[0;34m\u001b[0m\u001b[0;34m\u001b[0m\u001b[0m\n\u001b[1;32m      4\u001b[0m \u001b[0mdman\u001b[0m\u001b[0;34m.\u001b[0m\u001b[0mNextEvent\u001b[0m\u001b[0;34m(\u001b[0m\u001b[0;34m)\u001b[0m\u001b[0;34m\u001b[0m\u001b[0;34m\u001b[0m\u001b[0m\n",
      "\u001b[0;31mNameError\u001b[0m: name 'ROOT' is not defined"
     ]
    }
   ],
   "source": [
    "dman = ROOT.DataManager(datadir)\n",
    "dman.NextTimeFrame()\n",
    "dman.NextEvent()\n",
    "dman.NextEvent()"
   ]
  },
  {
   "cell_type": "code",
   "execution_count": null,
   "id": "6e5e3996",
   "metadata": {},
   "outputs": [],
   "source": [
    "cnv = ROOT.TCanvas()\n",
    "hist = ROOT.TH1F()\n",
    "# for i,dig in enumerate(PyDigitRange(dman.Digits())):\n",
    "for i,dig in enumerate(dman.Digits()):\n",
    "#     if i>200: break\n",
    "        \n",
    "    if dig.getDetector() != 0:\n",
    "        break\n",
    "\n",
    "    print(dig)\n"
   ]
  },
  {
   "cell_type": "code",
   "execution_count": null,
   "id": "a3dea387",
   "metadata": {},
   "outputs": [],
   "source": []
  }
 ],
 "metadata": {
  "kernelspec": {
   "display_name": "Python 3",
   "language": "python",
   "name": "python3"
  },
  "language_info": {
   "codemirror_mode": {
    "name": "ipython",
    "version": 3
   },
   "file_extension": ".py",
   "mimetype": "text/x-python",
   "name": "python",
   "nbconvert_exporter": "python",
   "pygments_lexer": "ipython3",
   "version": "3.6.10"
  }
 },
 "nbformat": 4,
 "nbformat_minor": 5
}

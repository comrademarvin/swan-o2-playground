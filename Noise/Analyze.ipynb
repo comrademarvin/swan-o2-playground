{
 "cells": [
  {
   "cell_type": "code",
   "execution_count": null,
   "id": "250b67e2",
   "metadata": {},
   "outputs": [],
   "source": [
    "run = 504419 # reasonable, low-rate run\n",
    "# run = 504428 # high-rate run with problems\n",
    "datadir = f\"/Users/tom/cernbox/data/noise/{run}/\"\n",
    "# datadir = f\"/eos/user/t/tdietel/data/noise/{run}/\""
   ]
  },
  {
   "cell_type": "code",
   "execution_count": null,
   "id": "e9a57803",
   "metadata": {},
   "outputs": [],
   "source": [
    "import ROOT\n",
    "%jsroot on"
   ]
  },
  {
   "cell_type": "code",
   "execution_count": null,
   "id": "c34af5ef",
   "metadata": {},
   "outputs": [],
   "source": [
    "ROOT.gROOT.LoadMacro(\"../macros/DataManager.C+\")"
   ]
  },
  {
   "cell_type": "code",
   "execution_count": null,
   "id": "bb1b1791",
   "metadata": {},
   "outputs": [],
   "source": [
    "# Pythonize iterators\n",
    "def iter_helper(x):\n",
    "    x._current = x.begin()\n",
    "    return x\n",
    "\n",
    "def next_helper(x):\n",
    "    if x._current == x.end():\n",
    "        raise StopIteration\n",
    "    else: \n",
    "        itr = x._current\n",
    "        x._current += 1\n",
    "        return itr.__deref__()\n",
    "\n",
    "ROOT.myrange(\"o2::trd::Digit, TTreeReaderArray\").__iter__ = iter_helper\n",
    "ROOT.myrange(\"o2::trd::Digit, TTreeReaderArray\").__next__ = next_helper\n",
    "# ROOT.RawDataSpan.digits.__iter__ = iter_helper\n",
    "# ROOT.DataManager.digits.__next__ = next_helper"
   ]
  },
  {
   "cell_type": "code",
   "execution_count": null,
   "id": "da8fadf0",
   "metadata": {},
   "outputs": [],
   "source": [
    "## This will be nice when pythonization is available (ROOT 6.26 or so...)\n",
    "# from ROOT import pythonization\n",
    "\n",
    "# @pythonization('o2::trd::Digit')\n",
    "# def pythonizor_for_digits(klass):\n",
    "#     klass.__str__ = lambda d : f'{d.getDetector()}:{d.getROB()}:{d.getMCM():02d}'\n",
    "\n",
    "\n",
    "# In the meantime, this version is actually just as good\n",
    "def fmt_digit(d):\n",
    "    det = d.getDetector()\n",
    "    r = f'{det:03d}->{det//30:02d}_{(det%30)//5}_{det%6}'\n",
    "    r += f' {d.getROB()}:{d.getMCM():02d} ch{d.getChannel()}'\n",
    "    return r\n",
    "\n",
    "ROOT.o2.trd.Digit.__str__ = fmt_digit\n",
    "            "
   ]
  },
  {
   "cell_type": "code",
   "execution_count": null,
   "id": "5b1d5249",
   "metadata": {},
   "outputs": [],
   "source": [
    "dman = ROOT.DataManager(datadir)\n",
    "dman.NextTimeFrame()\n",
    "dman.NextEvent()\n",
    "dman.NextEvent()"
   ]
  },
  {
   "cell_type": "code",
   "execution_count": null,
   "id": "cd59aa08",
   "metadata": {},
   "outputs": [],
   "source": [
    "cnv = ROOT.TCanvas()\n",
    "adchist = ROOT.TH1F(\"adchist\", \"ADC Histogram;ADC;number of entries\", 21,-0.5,20.5);\n",
    "# for i,dig in enumerate(PyDigitRange(dman.Digits())):\n",
    "\n",
    "event = dman.GetEvent()\n",
    "for i,dig in enumerate(event.digits):\n",
    "    if i>2000: break\n",
    "        \n",
    "#     if dig.getDetector() != 0:\n",
    "#         break\n",
    "\n",
    "    for tb in range(30):\n",
    "        adchist.Fill(dig.getADC()[tb])\n",
    "#     print(dig)\n"
   ]
  },
  {
   "cell_type": "code",
   "execution_count": null,
   "id": "bce47f21",
   "metadata": {},
   "outputs": [],
   "source": [
    "cnv = ROOT.TCanvas()\n",
    "cnv.SetLogy()\n",
    "adchist.Draw()\n",
    "cnv.Draw()"
   ]
  },
  {
   "cell_type": "code",
   "execution_count": null,
   "id": "df238023",
   "metadata": {},
   "outputs": [],
   "source": []
  }
 ],
 "metadata": {
  "kernelspec": {
   "display_name": "Python 3",
   "language": "python",
   "name": "python3"
  },
  "language_info": {
   "codemirror_mode": {
    "name": "ipython",
    "version": 3
   },
   "file_extension": ".py",
   "mimetype": "text/x-python",
   "name": "python",
   "nbconvert_exporter": "python",
   "pygments_lexer": "ipython3",
   "version": "3.9.13"
  }
 },
 "nbformat": 4,
 "nbformat_minor": 5
}

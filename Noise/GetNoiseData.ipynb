{
 "cells": [
  {
   "cell_type": "markdown",
   "id": "186eb960",
   "metadata": {
    "slideshow": {
     "slide_type": "slide"
    }
   },
   "source": [
    "Run selection\n",
    "===========\n",
    "\n",
    "Anastasia has summarized the standalone runs of the TRD in 2021 in the Jira ticket [\\[TRD-112\\]](https://alice.its.cern.ch/jira/browse/TRD-112).\n",
    "\n",
    "From this ticket, I picked run 504428 with the following comment:\n",
    "> 504428, 10 khz, 42212, calrate 1; 151MB/s, 49944 events ; accepted rate 5 k"
   ]
  },
  {
   "cell_type": "code",
   "execution_count": 15,
   "id": "0d9e6df3",
   "metadata": {},
   "outputs": [],
   "source": [
    "run = 504428\n",
    "outdir = f\"/eos/user/t/tdietel/data/noise/{run}\""
   ]
  },
  {
   "cell_type": "code",
   "execution_count": 2,
   "id": "ca21180a",
   "metadata": {
    "scrolled": true,
    "slideshow": {
     "slide_type": "-"
    }
   },
   "outputs": [],
   "source": [
    "import alienpy.alien as alien\n",
    "\n",
    "alien.setup_logging()\n",
    "try:\n",
    "    j = alien.AliEn()\n",
    "#     j.ProcessMsg('whoami -v')\n",
    "\n",
    "except SystemExit:\n",
    "    print(\"ERROR initializing AliEn session\")\n",
    "    print(\"Make sure you have a valid token by opening a SWAN terminal and running `alien-token-init`\")"
   ]
  },
  {
   "cell_type": "code",
   "execution_count": 16,
   "id": "0fce6d4a",
   "metadata": {},
   "outputs": [
    {
     "data": {
      "text/plain": [
       "'Found 38 files with 21.524 GiB'"
      ]
     },
     "metadata": {},
     "output_type": "display_data"
    }
   ],
   "source": [
    "import json\n",
    "from pathlib import Path\n",
    "from pprint import pprint\n",
    "\n",
    "res = j.run(f'ls -l /alice/data/2021/OCT_TRD/{run}/raw')\n",
    "# display(res.ansdict['results'][0])\n",
    "\n",
    "totalsize = sum([int(x['size']) for x in res.ansdict['results']])\n",
    "files = [Path(x['path']) for x in res.ansdict['results']]\n",
    "\n",
    "display(f\"Found {len(files)} files with {totalsize / float(1<<30):.3f} GiB\")\n",
    "\n",
    "# display(files)"
   ]
  },
  {
   "cell_type": "markdown",
   "id": "c97cf309",
   "metadata": {},
   "source": [
    "### Copying files\n",
    "\n",
    "It's straightforward to download a file with `alien.py`"
   ]
  },
  {
   "cell_type": "code",
   "execution_count": 27,
   "id": "feb1479c",
   "metadata": {},
   "outputs": [],
   "source": [
    "Path(outdir).mkdir(parents=True, exist_ok=True)\n",
    "\n",
    "for f in files:\n",
    "    outfile = Path(outdir) / f.name\n",
    "    if not outfile.exists():\n",
    "        j.ProcessMsg(f\"cp {f} file:{outfile}\")\n",
    "    \n",
    "    #     j.ProcessMsg(f\"cp {files[0]} file:/tmp/bla.root\")"
   ]
  },
  {
   "cell_type": "code",
   "execution_count": 55,
   "id": "376114f7",
   "metadata": {},
   "outputs": [
    {
     "name": "stdout",
     "output_type": "stream",
     "text": [
      "TFile**\t\t/tmp/bla.root\t\n",
      " TFile*\t\t/tmp/bla.root\t\n",
      "  KEY: TTree\tctf;1\tO2 CTF tree\n"
     ]
    }
   ],
   "source": [
    "f1 = ROOT.TFile(\"/tmp/bla.root\")\n",
    "f1.ls()"
   ]
  },
  {
   "cell_type": "code",
   "execution_count": 66,
   "id": "b7797094",
   "metadata": {},
   "outputs": [
    {
     "name": "stdout",
     "output_type": "stream",
     "text": [
      "-rwxr-xr-x    tdietel  tdietel        21937 Nov 27 08:39    digfilter_digflt1.root\n"
     ]
    },
    {
     "data": {
      "text/plain": [
       "0"
      ]
     },
     "execution_count": 66,
     "metadata": {},
     "output_type": "execute_result"
    }
   ],
   "source": [
    "j.ProcessMsg(f\"ls -l /alice/cern.ch/user/t/tdietel/digfilter_digflt1/digfilter_digflt1.root\")"
   ]
  },
  {
   "cell_type": "markdown",
   "id": "bf91f1f7",
   "metadata": {},
   "source": [
    "ROOT Implementation of AliEn: TJAlien\n",
    "===============================\n",
    "\n",
    "TJAlien is the implementation in ROOT, and would be preferable to open a file directly from the grid, rather than copying it locally before opening it - although that assumes that xrootd access does not copy it locally itself.\n"
   ]
  },
  {
   "cell_type": "code",
   "execution_count": 6,
   "id": "a0add1d7",
   "metadata": {
    "scrolled": true
   },
   "outputs": [
    {
     "name": "stdout",
     "output_type": "stream",
     "text": [
      "Welcome to JupyROOT 6.24/06\n"
     ]
    }
   ],
   "source": [
    "import ROOT\n",
    "ali = ROOT.TJAlien(\"alien:///alice/data\")\n",
    "ali.Ls().Print()\n"
   ]
  },
  {
   "cell_type": "code",
   "execution_count": 8,
   "id": "e7759e1f",
   "metadata": {},
   "outputs": [
    {
     "ename": "SyntaxError",
     "evalue": "invalid syntax (<ipython-input-8-ba065b7985a8>, line 1)",
     "output_type": "error",
     "traceback": [
      "\u001b[0;36m  File \u001b[0;32m\"<ipython-input-8-ba065b7985a8>\"\u001b[0;36m, line \u001b[0;32m1\u001b[0m\n\u001b[0;31m    TGrid *alien = root.TGridConnect(\"alien\", ROOT.gSystem->Getenv(\"USER\"), \"\",\u001b[0m\n\u001b[0m                                                           ^\u001b[0m\n\u001b[0;31mSyntaxError\u001b[0m\u001b[0;31m:\u001b[0m invalid syntax\n"
     ]
    }
   ],
   "source": [
    " TGrid *alien = root.TGridConnect(\"alien\", ROOT.gSystem->Getenv(\"USER\"), \"\",\n",
    "                                 \"-domain=cern.ch\");"
   ]
  },
  {
   "cell_type": "code",
   "execution_count": 9,
   "id": "882f3e5c",
   "metadata": {},
   "outputs": [
    {
     "name": "stdout",
     "output_type": "stream",
     "text": [
      "( 000000 ) LFN: .../(null)                                             Size[Bytes]:     (null)   GUID: (null)\n",
      "( 000001 ) LFN: .../(null)                                             Size[Bytes]:     (null)   GUID: (null)\n",
      "( 000002 ) LFN: .../(null)                                             Size[Bytes]:     (null)   GUID: (null)\n",
      "( 000003 ) LFN: .../(null)                                             Size[Bytes]:     (null)   GUID: (null)\n",
      "( 000004 ) LFN: .../(null)                                             Size[Bytes]:     (null)   GUID: (null)\n",
      "( 000005 ) LFN: .../(null)                                             Size[Bytes]:     (null)   GUID: (null)\n",
      "( 000006 ) LFN: .../(null)                                             Size[Bytes]:     (null)   GUID: (null)\n",
      "( 000007 ) LFN: .../(null)                                             Size[Bytes]:     (null)   GUID: (null)\n",
      "( 000008 ) LFN: .../(null)                                             Size[Bytes]:     (null)   GUID: (null)\n",
      "( 000009 ) LFN: .../(null)                                             Size[Bytes]:     (null)   GUID: (null)\n",
      "( 000010 ) LFN: .../(null)                                             Size[Bytes]:     (null)   GUID: (null)\n",
      "( 000011 ) LFN: .../(null)                                             Size[Bytes]:     (null)   GUID: (null)\n",
      "( 000012 ) LFN: .../(null)                                             Size[Bytes]:     (null)   GUID: (null)\n",
      "( 000013 ) LFN: .../(null)                                             Size[Bytes]:     (null)   GUID: (null)\n",
      "( 000014 ) LFN: .../(null)                                             Size[Bytes]:     (null)   GUID: (null)\n",
      "( 000015 ) LFN: .../(null)                                             Size[Bytes]:     (null)   GUID: (null)\n",
      "( 000016 ) LFN: .../(null)                                             Size[Bytes]:     (null)   GUID: (null)\n",
      "( 000017 ) LFN: .../(null)                                             Size[Bytes]:     (null)   GUID: (null)\n",
      "( 000018 ) LFN: .../(null)                                             Size[Bytes]:     (null)   GUID: (null)\n",
      "( 000019 ) LFN: .../(null)                                             Size[Bytes]:     (null)   GUID: (null)\n",
      "( 000020 ) LFN: .../(null)                                             Size[Bytes]:     (null)   GUID: (null)\n",
      "( 000021 ) LFN: .../(null)                                             Size[Bytes]:     (null)   GUID: (null)\n",
      "( 000022 ) LFN: .../(null)                                             Size[Bytes]:     (null)   GUID: (null)\n",
      "( 000023 ) LFN: .../(null)                                             Size[Bytes]:     (null)   GUID: (null)\n",
      "( 000024 ) LFN: .../(null)                                             Size[Bytes]:     (null)   GUID: (null)\n",
      "( 000025 ) LFN: .../(null)                                             Size[Bytes]:     (null)   GUID: (null)\n",
      "( 000026 ) LFN: .../(null)                                             Size[Bytes]:     (null)   GUID: (null)\n",
      "( 000027 ) LFN: .../(null)                                             Size[Bytes]:     (null)   GUID: (null)\n",
      "( 000028 ) LFN: .../(null)                                             Size[Bytes]:     (null)   GUID: (null)\n",
      "( 000029 ) LFN: .../(null)                                             Size[Bytes]:     (null)   GUID: (null)\n",
      "( 000030 ) LFN: .../(null)                                             Size[Bytes]:     (null)   GUID: (null)\n",
      "( 000031 ) LFN: .../(null)                                             Size[Bytes]:     (null)   GUID: (null)\n",
      "( 000032 ) LFN: .../(null)                                             Size[Bytes]:     (null)   GUID: (null)\n",
      "( 000033 ) LFN: .../(null)                                             Size[Bytes]:     (null)   GUID: (null)\n",
      "( 000034 ) LFN: .../(null)                                             Size[Bytes]:     (null)   GUID: (null)\n",
      "( 000035 ) LFN: .../(null)                                             Size[Bytes]:     (null)   GUID: (null)\n",
      "( 000036 ) LFN: .../(null)                                             Size[Bytes]:     (null)   GUID: (null)\n",
      "( 000037 ) LFN: .../(null)                                             Size[Bytes]:     (null)   GUID: (null)\n",
      "------------------------------------------------------------\n",
      "-> Result contains 0.00 MB in 0 Files.\n"
     ]
    },
    {
     "name": "stderr",
     "output_type": "stream",
     "text": [
      "Error in <TUnixSystem::BaseName>: name = 0\n",
      "Error in <TUnixSystem::BaseName>: name = 0\n",
      "Error in <TUnixSystem::BaseName>: name = 0\n",
      "Error in <TUnixSystem::BaseName>: name = 0\n",
      "Error in <TUnixSystem::BaseName>: name = 0\n",
      "Error in <TUnixSystem::BaseName>: name = 0\n",
      "Error in <TUnixSystem::BaseName>: name = 0\n",
      "Error in <TUnixSystem::BaseName>: name = 0\n",
      "Error in <TUnixSystem::BaseName>: name = 0\n",
      "Error in <TUnixSystem::BaseName>: name = 0\n",
      "Error in <TUnixSystem::BaseName>: name = 0\n",
      "Error in <TUnixSystem::BaseName>: name = 0\n",
      "Error in <TUnixSystem::BaseName>: name = 0\n",
      "Error in <TUnixSystem::BaseName>: name = 0\n",
      "Error in <TUnixSystem::BaseName>: name = 0\n",
      "Error in <TUnixSystem::BaseName>: name = 0\n",
      "Error in <TUnixSystem::BaseName>: name = 0\n",
      "Error in <TUnixSystem::BaseName>: name = 0\n",
      "Error in <TUnixSystem::BaseName>: name = 0\n",
      "Error in <TUnixSystem::BaseName>: name = 0\n",
      "Error in <TUnixSystem::BaseName>: name = 0\n",
      "Error in <TUnixSystem::BaseName>: name = 0\n",
      "Error in <TUnixSystem::BaseName>: name = 0\n",
      "Error in <TUnixSystem::BaseName>: name = 0\n",
      "Error in <TUnixSystem::BaseName>: name = 0\n",
      "Error in <TUnixSystem::BaseName>: name = 0\n",
      "Error in <TUnixSystem::BaseName>: name = 0\n",
      "Error in <TUnixSystem::BaseName>: name = 0\n",
      "Error in <TUnixSystem::BaseName>: name = 0\n",
      "Error in <TUnixSystem::BaseName>: name = 0\n",
      "Error in <TUnixSystem::BaseName>: name = 0\n",
      "Error in <TUnixSystem::BaseName>: name = 0\n",
      "Error in <TUnixSystem::BaseName>: name = 0\n",
      "Error in <TUnixSystem::BaseName>: name = 0\n",
      "Error in <TUnixSystem::BaseName>: name = 0\n",
      "Error in <TUnixSystem::BaseName>: name = 0\n",
      "Error in <TUnixSystem::BaseName>: name = 0\n",
      "Error in <TUnixSystem::BaseName>: name = 0\n"
     ]
    }
   ],
   "source": [
    "filename = \"/alice/data/2021/OCT_TRD/504428/raw/o2_ctf_run00504428_orbit4294967295_tf0000001073.root\"\n",
    "ali.Ls(\"/alice/data/2021/OCT_TRD/504428/raw/\").Print()"
   ]
  },
  {
   "cell_type": "code",
   "execution_count": 42,
   "id": "a972c5cb",
   "metadata": {},
   "outputs": [
    {
     "name": "stderr",
     "output_type": "stream",
     "text": [
      "Error in <TNetXNGFile::Open>: [ERROR] Server responded with an error: [3010] Unable to open /raw/2021/OCT_TRD/504428/raw/o2_ctf_run00504428_orbit0000000124_tf0000000001.root; Permission denied\n",
      "\n"
     ]
    }
   ],
   "source": [
    "f2 = ROOT.TJAlienFile(\"root://eosaliceo2.cern.ch:1094//raw/2021/OCT_TRD/504428/raw/o2_ctf_run00504428_orbit0000000124_tf0000000001.root\")"
   ]
  },
  {
   "cell_type": "code",
   "execution_count": 10,
   "id": "fb034b2a",
   "metadata": {},
   "outputs": [
    {
     "name": "stderr",
     "output_type": "stream",
     "text": [
      "Error in <TNetXNGFile::Open>: [ERROR] Operation expired\n"
     ]
    }
   ],
   "source": [
    "f = ROOT.TJAlienFile(\"/alice/data/2021/OCT_TRD/504428/raw/o2_ctf_run00504428_orbit4294967295_tf0000001073.root\")"
   ]
  },
  {
   "cell_type": "code",
   "execution_count": null,
   "id": "4de23878",
   "metadata": {},
   "outputs": [],
   "source": [
    "f.ls()"
   ]
  },
  {
   "cell_type": "code",
   "execution_count": null,
   "id": "7579d2b6",
   "metadata": {},
   "outputs": [],
   "source": [
    "h = ROOT.TH1F(\"bla\",\"foo\", 40,0., 10.)"
   ]
  },
  {
   "cell_type": "code",
   "execution_count": null,
   "id": "b793d408",
   "metadata": {},
   "outputs": [],
   "source": [
    "cnv = ROOT.TCanvas()\n",
    "h.Draw()\n",
    "cnv.Draw()"
   ]
  },
  {
   "cell_type": "code",
   "execution_count": null,
   "id": "f77e4bee",
   "metadata": {},
   "outputs": [],
   "source": [
    "hit = ROOT.o2.trd.Hit(1,2,3,4,42,666,1)\n",
    "print(hit)"
   ]
  },
  {
   "cell_type": "code",
   "execution_count": null,
   "id": "43e6dd5f",
   "metadata": {},
   "outputs": [],
   "source": [
    "alien = ROOT.TJAlien(\"alien:///alice/data\")"
   ]
  },
  {
   "cell_type": "code",
   "execution_count": null,
   "id": "5687da26",
   "metadata": {},
   "outputs": [],
   "source": [
    "alien.Ls()"
   ]
  }
 ],
 "metadata": {
  "celltoolbar": "Slideshow",
  "kernelspec": {
   "display_name": "Python 3",
   "language": "python",
   "name": "python3"
  },
  "language_info": {
   "codemirror_mode": {
    "name": "ipython",
    "version": 3
   },
   "file_extension": ".py",
   "mimetype": "text/x-python",
   "name": "python",
   "nbconvert_exporter": "python",
   "pygments_lexer": "ipython3",
   "version": "3.6.10"
  }
 },
 "nbformat": 4,
 "nbformat_minor": 5
}

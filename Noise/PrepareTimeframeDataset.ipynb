{
 "cells": [
  {
   "cell_type": "markdown",
   "id": "186eb960",
   "metadata": {
    "slideshow": {
     "slide_type": "slide"
    }
   },
   "source": [
    "Run selection\n",
    "===========\n",
    "\n",
    "Anastasia has summarized the standalone runs of the TRD in 2021 in the Jira ticket [\\[TRD-112\\]](https://alice.its.cern.ch/jira/browse/TRD-112).\n",
    "\n",
    "From this ticket, I picked run 504428 with the following comment:\n",
    "```\n",
    "504419, 100 hz, 42212, calrate 1; 2.3GB/s, 100000 events\n",
    "504425, 1 hz, 42212, calrate 1; 151MB/s, 1000 events\n",
    "504428, 10 khz, 42212, calrate 1; 151MB/s, 49944 events ; accepted rate 5 k\n",
    "```"
   ]
  },
  {
   "cell_type": "code",
   "execution_count": 1,
   "id": "0d9e6df3",
   "metadata": {},
   "outputs": [
    {
     "name": "stdout",
     "output_type": "stream",
     "text": [
      "/eos/home-t/tdietel/data/noise/504419\n"
     ]
    }
   ],
   "source": [
    "run = 504419\n",
    "filepattern = f\"/alice/data/2021/OCT/{run}/raw\"\n",
    "\n",
    "outdir = f\"/eos/user/t/tdietel/data/noise/{run}\"\n",
    "\n",
    "# Path(outdir).mkdir(parents=True, exist_ok=True)\n",
    "%cd $outdir"
   ]
  },
  {
   "cell_type": "code",
   "execution_count": 12,
   "id": "d7e7faf8",
   "metadata": {},
   "outputs": [],
   "source": [
    "from IPython.core.magic import register_cell_magic\n",
    "import string\n",
    "import re\n",
    "import argparse\n",
    "import pathlib\n",
    "\n",
    "class NamespaceFormatter(string.Formatter):\n",
    "   def __init__(self, namespace={}):\n",
    "       string.Formatter.__init__(self)\n",
    "       self.namespace = namespace\n",
    "\n",
    "   def get_value(self, key, args, kwds):\n",
    "       if isinstance(key, str):\n",
    "           try:\n",
    "               # Check explicitly passed arguments first\n",
    "               return kwds[key]\n",
    "           except KeyError:\n",
    "               return self.namespace[key]\n",
    "       else:\n",
    "           string.Formatter.get_value(key, args, kwds)\n",
    "\n",
    "            \n",
    "@register_cell_magic\n",
    "def genfile(line, cell):\n",
    "    \"\"\" Generate file \n",
    "    \n",
    "    This magic is an extension of the %%writefile magic. The additional functionality \n",
    "    includes:\n",
    "      - variable expansion (similar to string.format and f-strings)\n",
    "      - set file permisssions with -m | --mode flag\"\"\"\n",
    "\n",
    "    # parse the command line arguments\n",
    "    parser = argparse.ArgumentParser(description='Generate file magic')\n",
    "    parser.add_argument('outfile', type=str, help='output file')\n",
    "    parser.add_argument('-m', '--mode', help='file permissions')\n",
    "    args = parser.parse_args(line.split())\n",
    "\n",
    "\n",
    "    # format the content\n",
    "    fmt = NamespaceFormatter(globals())\n",
    "    content = fmt.format(cell)\n",
    "    content = content.replace(\"\\n    \", \"\\n\\t\")\n",
    "\n",
    "    # TODO: this should check if the file content changed to\n",
    "    # prevent updating the timestamp if nothing changed.\n",
    "    # This will help with Makefile dependencies.\n",
    "    \n",
    "    # generate the file\n",
    "    filename = pathlib.Path(args.outfile)\n",
    "    with open(filename, \"w\") as out:\n",
    "            out.write(content)\n",
    "    if args.mode is not None:\n",
    "        filename.chmod(int(args.mode,8))\n",
    "\n",
    "    print(f\"Generated file '{filename}'\")\n",
    "\n",
    "    return "
   ]
  },
  {
   "cell_type": "code",
   "execution_count": 3,
   "id": "ca21180a",
   "metadata": {
    "scrolled": true,
    "slideshow": {
     "slide_type": "-"
    }
   },
   "outputs": [
    {
     "name": "stdout",
     "output_type": "stream",
     "text": [
      "['DN >>> /C=ch/O=AliEn2/CN=Users/CN=tdietel/OU=tdietel', 'ISSUER >>> /C=ch/O=AliEn2/CN=AliEn CA', 'BEGIN >>> 2022-03-30 23:39:23', 'EXPIRE >>> 2022-05-01 01:39:23']\n"
     ]
    }
   ],
   "source": [
    "info = %system alien-token-info\n",
    "print(info)\n",
    "\n",
    "import alienpy.alien as alien\n",
    "\n",
    "alien.setup_logging()\n",
    "try:\n",
    "    j = alien.AliEn()\n",
    "#     j.ProcessMsg('whoami -v')\n",
    "\n",
    "except SystemExit:\n",
    "    print(\"ERROR initializing AliEn session\")\n",
    "    print(\"Make sure you have a valid token by opening a SWAN terminal and running `alien-token-init`\")"
   ]
  },
  {
   "cell_type": "code",
   "execution_count": 4,
   "id": "c7d2a77c",
   "metadata": {},
   "outputs": [],
   "source": [
    "import json\n",
    "import collections\n",
    "from pathlib import Path\n",
    "from pprint import pprint\n",
    "\n",
    "AlienFileInfo = collections.namedtuple('AlienFileInfo', ['path','size'])\n",
    "results = j.run(f'ls -l {filepattern}').ansdict['results']\n",
    "fileinfo = [AlienFileInfo(Path(x['path']), int(x['size'])) for x in results]\n",
    "# print(fileinfo)\n",
    "\n",
    "# OPTIONAL: restrict results\n",
    "fileinfo = fileinfo[1:]"
   ]
  },
  {
   "cell_type": "code",
   "execution_count": 5,
   "id": "0fce6d4a",
   "metadata": {},
   "outputs": [
    {
     "name": "stdout",
     "output_type": "stream",
     "text": [
      "Using 1 files with 0.042 GiB\n",
      "\n",
      "       45543288  /alice/data/2021/OCT/504419/raw/o2_rawtf_run00504419_tf00006252.tf\n"
     ]
    }
   ],
   "source": [
    "totalsize = sum([x.size for x in fileinfo])\n",
    "print(f\"Using {len(fileinfo)} files with {totalsize / float(1<<30):.3f} GiB\")\n",
    "print()\n",
    "\n",
    "# for x in fileinfo: print(f\"{x.size:15d}  {x.path}\")\n",
    "    \n",
    "with open(Path(outdir)/\"files.txt\", \"w\") as f:\n",
    "    for x in fileinfo:\n",
    "        print(f\"{x.size:15d}  {x.path}\")\n",
    "        f.write(str(x.path))"
   ]
  },
  {
   "cell_type": "markdown",
   "id": "c97cf309",
   "metadata": {},
   "source": [
    "### Copying files\n",
    "\n",
    "It's straightforward to download a file with `alien.py`"
   ]
  },
  {
   "cell_type": "code",
   "execution_count": 10,
   "id": "feb1479c",
   "metadata": {},
   "outputs": [
    {
     "data": {
      "text/plain": [
       "['total 58M',\n",
       " 'drwxr-xr-x. 2 tdietel 1395 4.0K Mar 30 17:07 bak',\n",
       " '-rwxr-xr-x. 1 tdietel 1395  242 Mar 31 12:30 convert.sh',\n",
       " '-rw-r--r--. 1 tdietel 1395  880 Mar 31 12:33 dpl-config.json',\n",
       " '-rw-r--r--. 1 tdietel 1395   66 Mar 31 13:07 files.txt',\n",
       " '-rw-r--r--. 1 tdietel 1395   90 Mar 31 12:29 Makefile',\n",
       " '-rw-r--r--. 1 tdietel 1395  44M Mar 31 13:09 o2_rawtf_run00504419_tf00006252.tf',\n",
       " '-rw-r--r--. 1 tdietel 1395  15M Mar 31 12:33 trddigits.root',\n",
       " '-rw-r--r--. 1 tdietel 1395 8.8K Mar 31 12:33 trdtracklets.root']"
      ]
     },
     "execution_count": 10,
     "metadata": {},
     "output_type": "execute_result"
    }
   ],
   "source": [
    "outdir = pathlib.Path(outdir)\n",
    "\n",
    "for f in [ x.path for x in fileinfo]:\n",
    "    if not (outdir / f.name).exists():\n",
    "        j.ProcessMsg(f\"cp {f} file:{outdir / f.name}\")\n",
    "    \n",
    "%system ls -lh $outdir"
   ]
  },
  {
   "cell_type": "markdown",
   "id": "132de8c0",
   "metadata": {},
   "source": [
    "## Convert timeframe\n"
   ]
  },
  {
   "cell_type": "code",
   "execution_count": 13,
   "id": "eab43a00",
   "metadata": {},
   "outputs": [
    {
     "name": "stdout",
     "output_type": "stream",
     "text": [
      "Generated file 'convert.sh'\n"
     ]
    }
   ],
   "source": [
    "%%genfile -m 0755 convert.sh\n",
    "#!/bin/sh\n",
    "\n",
    "eval $(alienv printenv VO_ALICE@O2::nightly-20220124-1)\n",
    "\n",
    "o2-raw-tf-reader-workflow --input-data files.txt \\\n",
    "| o2-trd-datareader --fixsm1617 --tracklethcheader 2 –enable-root-output \\\n",
    "| o2-trd-digittracklet-writer \\\n",
    "--run --batch\n"
   ]
  },
  {
   "cell_type": "code",
   "execution_count": 14,
   "id": "917d47b4",
   "metadata": {},
   "outputs": [
    {
     "name": "stdout",
     "output_type": "stream",
     "text": [
      "Generated file 'Makefile'\n"
     ]
    }
   ],
   "source": [
    "%%genfile Makefile\n",
    "\n",
    "conv: convert.sh files.txt\n",
    "    ./convert.sh\n",
    "\n",
    "clean:\n",
    "    rm -f trdtracklets.root trddigits.root"
   ]
  },
  {
   "cell_type": "code",
   "execution_count": 15,
   "id": "63567b4c",
   "metadata": {},
   "outputs": [
    {
     "data": {
      "text/plain": [
       "['total 59358',\n",
       " 'drwxr-xr-x. 2 tdietel 1395     4096 Mar 30 17:07 bak',\n",
       " '-rwxr-xr-x. 1 tdietel 1395      242 Mar 31 13:11 convert.sh',\n",
       " '-rw-r--r--. 1 tdietel 1395      880 Mar 31 12:33 dpl-config.json',\n",
       " '-rw-r--r--. 1 tdietel 1395       66 Mar 31 13:07 files.txt',\n",
       " '-rw-r--r--. 1 tdietel 1395       90 Mar 31 13:11 Makefile',\n",
       " '-rw-r--r--. 1 tdietel 1395 45543288 Mar 31 13:09 o2_rawtf_run00504419_tf00006252.tf',\n",
       " '-rw-r--r--. 1 tdietel 1395 15222345 Mar 31 12:33 trddigits.root',\n",
       " '-rw-r--r--. 1 tdietel 1395     8962 Mar 31 12:33 trdtracklets.root']"
      ]
     },
     "execution_count": 15,
     "metadata": {},
     "output_type": "execute_result"
    }
   ],
   "source": [
    "%system ls -l\n",
    "# %system hexdump -C Makefile"
   ]
  },
  {
   "cell_type": "code",
   "execution_count": null,
   "id": "6e58f97d",
   "metadata": {},
   "outputs": [],
   "source": []
  }
 ],
 "metadata": {
  "celltoolbar": "Slideshow",
  "kernelspec": {
   "display_name": "Python 3",
   "language": "python",
   "name": "python3"
  },
  "language_info": {
   "codemirror_mode": {
    "name": "ipython",
    "version": 3
   },
   "file_extension": ".py",
   "mimetype": "text/x-python",
   "name": "python",
   "nbconvert_exporter": "python",
   "pygments_lexer": "ipython3",
   "version": "3.6.10"
  }
 },
 "nbformat": 4,
 "nbformat_minor": 5
}
